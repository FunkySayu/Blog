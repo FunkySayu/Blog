{
 "cells": [
  {
   "cell_type": "markdown",
   "metadata": {},
   "source": [
    "# Python: dive into the functions\n",
    "\n",
    "Recently I found a <a href=\"http://eli.thegreenplace.net/\">really useful blog</a> and it motivated me to make my own posts about Python and some other technologies. As he said in <a href=\"http://eli.thegreenplace.net/2003/05/06/why-start-a-weblog\">his first post</a>, writing about things you discover helps you to remember how things work, and I hope I wouldn't be too lazy to continue writing :)\n",
    "\n",
    "Let's define an easy function."
   ]
  },
  {
   "cell_type": "code",
   "execution_count": 1,
   "metadata": {
    "collapsed": true
   },
   "outputs": [],
   "source": [
    "def foo(a=[]):\n",
    "    a.append(5)\n",
    "    return a"
   ]
  },
  {
   "cell_type": "markdown",
   "metadata": {},
   "source": [
    "What does the following code do ?\n",
    "```python\n",
    "for i in xrange(4):\n",
    "    foo()\n",
    "\n",
    "result = foo()\n",
    "```\n",
    "\n",
    "For the ones who think that `result == [5]`, you need to learn some things about Python.\n",
    "\n",
    "As you may know, everything in Python is an object. `3`, `3.5`, `\"Hello World\"`... are objects, but even the types (`int`, `float` or `type`) and the functions are objects. The question is *what's a function object ?*"
   ]
  },
  {
   "cell_type": "markdown",
   "metadata": {},
   "source": [
    "## The function object ?\n",
    "\n",
    "At this point, you can see that in your globals, the `foo` name target to a `function` object :\n",
    "\n",
    "```python\n",
    ">>> globals()\n",
    "{\n",
    "    # .../...\n",
    "    'foo': <function foo at 0x2b919f6a17d0>,\n",
    "    # .../...\n",
    "}\n",
    ">>> type(foo)\n",
    "<type 'function'>\n",
    ">>> print type(foo).__doc__\n",
    "function(code, globals[, name[, argdefs[, closure]]])\n",
    "\n",
    "Create a function object from a code object and a dictionary.\n",
    "The optional name string overrides the name from the code object.\n",
    "The optional argdefs tuple specifies the default argument values.\n",
    "The optional closure tuple supplies the bindings for free variables.\n",
    "```\n",
    "\n",
    "Function are first-class object. This means that as any other object you can :\n",
    "- store it in variables or data structures (i.e. classes)\n",
    "- compare them with other entities\n",
    "- pass it as parameter or result of an other function\n",
    "- construct it at runtime\n",
    "- print or read it\n",
    "- manipulate their attributes\n",
    "- etc...\n",
    "\n",
    "\n",
    "## The function object's attributes"
   ]
  },
  {
   "cell_type": "code",
   "execution_count": 2,
   "metadata": {
    "collapsed": false
   },
   "outputs": [
    {
     "name": "stdout",
     "output_type": "stream",
     "text": [
      "['func_closure', 'func_code', 'func_defaults', 'func_dict', 'func_doc', 'func_globals', 'func_name']\n"
     ]
    }
   ],
   "source": [
    "print [e for e in dir(type(foo)) if not e.startswith(\"_\")]"
   ]
  },
  {
   "cell_type": "markdown",
   "metadata": {},
   "source": [
    "A function instance is composed of 7 components. This notebook is written with the Python 2.7 interpreter.\n",
    "\n",
    "From the <a href=\"https://docs.python.org/3.0/whatsnew/3.0.html#operators-and-special-methods\">What's new in Python 3.0</a> :\n",
    "<quote>The function attributes named `func_X` have been renamed to use the `__X__` form, freeing up these names in the function attribute namespace for user-defined attributes.</quote>\n",
    "\n",
    "So Python 3.x does not support anymore this attributes, and use instead :"
   ]
  },
  {
   "cell_type": "code",
   "execution_count": 3,
   "metadata": {
    "collapsed": false
   },
   "outputs": [
    {
     "name": "stdout",
     "output_type": "stream",
     "text": [
      "['__closure__', '__code__', '__defaults__', '__dict__', '__doc__', '__globals__', '__name__']\n"
     ]
    }
   ],
   "source": [
    "print [\"__%s__\" % e[5:] for e in dir(type(foo)) if not e.startswith(\"_\")]"
   ]
  },
  {
   "cell_type": "code",
   "execution_count": 4,
   "metadata": {
    "collapsed": false
   },
   "outputs": [
    {
     "name": "stdout",
     "output_type": "stream",
     "text": [
      "func_closure   : None\n",
      "func_code      : <code object foo at 0x13bdbb0, file \"<ipython-input-1-a62784216969>\", line 1>\n",
      "func_defaults  : ([],)\n",
      "func_dict      : {}\n",
      "func_doc       : None\n",
      "func_name      : foo\n"
     ]
    }
   ],
   "source": [
    "public_attributes = (e for e in dir(foo) if not e.startswith('_') and e != 'func_globals')\n",
    "print \"\\n\".join(\"%-14s : %s\" % (e, getattr(foo, e)) for e in public_attributes)"
   ]
  },
  {
   "cell_type": "markdown",
   "metadata": {},
   "source": [
    "### The function describers\n",
    "\n",
    "The following attributes helps to represent the Python function for the user :\n",
    "\n",
    "- `func_name` (or `__name__`) attribute is the original function name. This value is used when you want to represent your object (i.e. in the `__repr__` method).\n",
    "\n",
    "```python\n",
    "    def my_func(): pass\n",
    "    bar = my_func\n",
    "    assert bar.func_name == my_func.func_name == \"my_func\"  # True\n",
    "    assert str(bar).startswith(\"<function my_func at\")  # True\n",
    "```\n",
    "\n",
    "- `func_doc` (or `__doc__`) attribute contains the docstring of your function. This is highly used by some tools such as <a href=\"http://sphinx-doc.org/\">Sphinx</a> (or even the `help` function) to generate the function's documentation (so don't forget to write your docstring !)"
   ]
  },
  {
   "cell_type": "markdown",
   "metadata": {},
   "source": [
    "### The end-user storage properties\n",
    "\n",
    "Sometimes, it would be useful to mark your function for whatever reasons. If you often use decorateurs, you may heard about the `synchronized` decorator. This decorator intend to make the same thing as the keyword `synchronized` in java. In threaded context, sometimes you don't want that two thread access to a function at the same time. The decorator looks like this :\n",
    "\n",
    "```python\n",
    "from functools import wraps\n",
    "import threading\n",
    "\n",
    "def synchronized(func):\n",
    "    \"\"\" Decorator to make a function thread-safe \"\"\"\n",
    "    lock = threading.Lock()\n",
    "    \n",
    "    @wraps(func)\n",
    "    def _wrapper(*args, **kwargs):\n",
    "        \"\"\" Wrapper of the function to lock the thread until the lock is acquired \"\"\"\n",
    "        with lock:\n",
    "            return func(*args, **kwargs)\n",
    "    \n",
    "    return _wrapper\n",
    "\n",
    "@synchronized\n",
    "def foo():\n",
    "    print \"I'm synchronized !\"\n",
    "```\n",
    "\n",
    "Sounds cool isn't it ? Yes but sometimes, for some reason, you want a specific lock on your function. For example, if you have 2 functions that must have the same lock (reading the same socket for example), a good way could be to register the lock into a shared space and then change a bit your `synchronized` decorator in order to adapt.\n",
    "\n",
    "Good news, you have a end-user dictionary here for registering meta-data of the function (in this example, a lock). This dictionary is known under the `func_dict` attribute, and here is an example of how to use it.\n",
    "\n",
    "```python\n",
    "def synchronized_v2(lock=None):\n",
    "    if lock is None:\n",
    "        lock = threading.Lock()\n",
    "    \n",
    "    def _decorator(func):\n",
    "        func.func_dict[\"lock\"] = lock\n",
    "        \n",
    "        @wraps(func)\n",
    "        def _wrapper(*args, **kwargs):\n",
    "            with func.func_dict[\"lock\"]:\n",
    "                return func(*args, **kwargs)\n",
    "        \n",
    "        return _wrapper\n",
    "    return _decorator\n",
    "\n",
    "@synchronized_v2()\n",
    "def bar(): pass\n",
    "\n",
    "@synchronized_v2(bar.func_dict[\"lock\"])\n",
    "def joe(): pass\n",
    "```\n",
    "\n",
    "The functions `bar` and `joe` are now synchronized with the same lock.\n",
    "\n",
    "With this kind of code, you can easily maintain or change the lock of your function by changing their attribute `func_dict[\"lock\"]`. This is a good way to deal with that, but there're tons of way to deal with that, as you an see on the <a href=\"http://blog.dscpl.com.au/2014/01/the-missing-synchronized-decorator.html\">Graham Dumpleton's blog</a>."
   ]
  },
  {
   "cell_type": "markdown",
   "metadata": {},
   "source": [
    "### A scope and closure overview\n",
    "\n",
    "One of the most important thing of a Python function is its scopes. Before Python 2.2, Python defined 3 scopes :\n",
    "\n",
    "- the local namespace, which reference all the objects names defined in the block of the function, the class or the method ;\n",
    "- the global namespace, which reference all the global objects defined in the module ;\n",
    "- the built-in namespace referencing all the built-in functions.\n",
    "\n",
    "This was useful, but not enough. A common issue happens with nested function :\n",
    "```python\n",
    "def outer():\n",
    "    somevar = []\n",
    "    \n",
    "    def inner():\n",
    "        somevar.append(4)\n",
    "        return somevar\n",
    "        \n",
    "    return inner\n",
    "```\n",
    "\n",
    "The function `outer` a function generator. It generate the `inner` function, with a variable `somevar`. But... What is the scope of this variable ? Obviously, not built-in. In order to be global, the function definition would look like this :\n",
    "```python\n",
    "def outer_global():\n",
    "    global somevar\n",
    "    somevar = []\n",
    "    \n",
    "    def inner():\n",
    "        global somevar\n",
    "        somevar.append(4)\n",
    "        assert \"somevar\" in globals() and not \"somevar\" in locals()\n",
    "        return somevar\n",
    "        \n",
    "    return inner\n",
    "```"
   ]
  },
  {
   "cell_type": "code",
   "execution_count": 5,
   "metadata": {
    "collapsed": false
   },
   "outputs": [
    {
     "data": {
      "text/plain": [
       "[5]"
      ]
     },
     "execution_count": 5,
     "metadata": {},
     "output_type": "execute_result"
    }
   ],
   "source": [
    "def outer_test():\n",
    "    somevar = []\n",
    "    \n",
    "    def inner():\n",
    "        assert \"somevar\" in locals()\n",
    "        somevar.append(5)\n",
    "        return somevar\n",
    "       \n",
    "    return inner\n",
    "\n",
    "inner = outer_test()\n",
    "inner()"
   ]
  },
  {
   "cell_type": "markdown",
   "metadata": {},
   "source": [
    "Alright, the assertion has been passed. The overall idea here is to say that all the variable from the outer scope are copied to the current scope (except if the outer scope is the module scope, because we fall into the global namespace).\n",
    "\n",
    "Let's see..."
   ]
  },
  {
   "cell_type": "code",
   "execution_count": 6,
   "metadata": {
    "collapsed": false
   },
   "outputs": [
    {
     "ename": "AssertionError",
     "evalue": "",
     "output_type": "error",
     "traceback": [
      "\u001b[1;31m---------------------------------------------------------------------------\u001b[0m",
      "\u001b[1;31mAssertionError\u001b[0m                            Traceback (most recent call last)",
      "\u001b[1;32m<ipython-input-6-a0c8881c4412>\u001b[0m in \u001b[0;36m<module>\u001b[1;34m()\u001b[0m\n\u001b[0;32m     10\u001b[0m \u001b[1;33m\u001b[0m\u001b[0m\n\u001b[0;32m     11\u001b[0m \u001b[0minner\u001b[0m \u001b[1;33m=\u001b[0m \u001b[0mouter_test_2\u001b[0m\u001b[1;33m(\u001b[0m\u001b[1;33m)\u001b[0m\u001b[1;33m\u001b[0m\u001b[0m\n\u001b[1;32m---> 12\u001b[1;33m \u001b[0minner\u001b[0m\u001b[1;33m(\u001b[0m\u001b[1;33m)\u001b[0m\u001b[1;33m\u001b[0m\u001b[0m\n\u001b[0m",
      "\u001b[1;32m<ipython-input-6-a0c8881c4412>\u001b[0m in \u001b[0;36minner\u001b[1;34m()\u001b[0m\n\u001b[0;32m      3\u001b[0m \u001b[1;33m\u001b[0m\u001b[0m\n\u001b[0;32m      4\u001b[0m     \u001b[1;32mdef\u001b[0m \u001b[0minner\u001b[0m\u001b[1;33m(\u001b[0m\u001b[1;33m)\u001b[0m\u001b[1;33m:\u001b[0m\u001b[1;33m\u001b[0m\u001b[0m\n\u001b[1;32m----> 5\u001b[1;33m         \u001b[1;32massert\u001b[0m \u001b[1;34m\"somevar\"\u001b[0m \u001b[1;32min\u001b[0m \u001b[0mlocals\u001b[0m\u001b[1;33m(\u001b[0m\u001b[1;33m)\u001b[0m \u001b[1;32mand\u001b[0m \u001b[1;34m\"someothervar\"\u001b[0m \u001b[1;32min\u001b[0m \u001b[0mlocals\u001b[0m\u001b[1;33m(\u001b[0m\u001b[1;33m)\u001b[0m\u001b[1;33m\u001b[0m\u001b[0m\n\u001b[0m\u001b[0;32m      6\u001b[0m         \u001b[0msomevar\u001b[0m\u001b[1;33m.\u001b[0m\u001b[0mappend\u001b[0m\u001b[1;33m(\u001b[0m\u001b[1;36m5\u001b[0m\u001b[1;33m)\u001b[0m\u001b[1;33m\u001b[0m\u001b[0m\n\u001b[0;32m      7\u001b[0m         \u001b[1;32mreturn\u001b[0m \u001b[0msomevar\u001b[0m\u001b[1;33m\u001b[0m\u001b[0m\n",
      "\u001b[1;31mAssertionError\u001b[0m: "
     ]
    }
   ],
   "source": [
    "def outer_test_2():\n",
    "    somevar, someothervar = [], []\n",
    "    \n",
    "    def inner():\n",
    "        assert \"somevar\" in locals() and \"someothervar\" in locals()\n",
    "        somevar.append(5)\n",
    "        return somevar\n",
    "    \n",
    "    return inner\n",
    "\n",
    "inner = outer_test_2()\n",
    "inner()"
   ]
  },
  {
   "cell_type": "markdown",
   "metadata": {},
   "source": [
    "Okay so it just copy a part of the variable (the variable used in the current scope and defined in the outer scope).\n",
    "\n",
    "And what if the variables are not copied ?"
   ]
  },
  {
   "cell_type": "code",
   "execution_count": 7,
   "metadata": {
    "collapsed": false
   },
   "outputs": [
    {
     "data": {
      "text/plain": [
       "[5, 6]"
      ]
     },
     "execution_count": 7,
     "metadata": {},
     "output_type": "execute_result"
    }
   ],
   "source": [
    "def outer_test_3():\n",
    "    somevar = []\n",
    "    \n",
    "    def inner_1():\n",
    "        somevar.append(5)\n",
    "        return somevar\n",
    "    \n",
    "    def inner_2():\n",
    "        somevar.append(6)\n",
    "        return somevar\n",
    "    \n",
    "    return inner_1, inner_2\n",
    "\n",
    "inner_1, inner_2 = outer_test_3()\n",
    "assert inner_1() == [5]\n",
    "inner_2()"
   ]
  },
  {
   "cell_type": "markdown",
   "metadata": {},
   "source": [
    "Hmm it looks like the variables are just references to the outer scope.\n",
    "\n",
    "Let's destroy all your dreams."
   ]
  },
  {
   "cell_type": "code",
   "execution_count": 8,
   "metadata": {
    "collapsed": false
   },
   "outputs": [
    {
     "name": "stdout",
     "output_type": "stream",
     "text": [
      "Yes, it does not exists anymore.\n",
      "[5, 6, 5]\n",
      "[5, 6, 5, 6]\n"
     ]
    }
   ],
   "source": [
    "del outer_test_3\n",
    "\n",
    "try:\n",
    "    _ = outer()\n",
    "except NameError:\n",
    "    print \"Yes, it does not exists anymore.\"\n",
    "\n",
    "print inner_1()\n",
    "print inner_2()"
   ]
  },
  {
   "cell_type": "markdown",
   "metadata": {},
   "source": [
    "As you may know, Python objects have a reference counter. When the reference counter goes to 0, the object is ready to be garbage collected.\n",
    "\n",
    "A reference is symbolized by a variable associated to the object, the fact that the object is in another object (for example a list or the attribute of another object) or whatever pointing to this object. Here, the `inner` function have a local variable `somevar` pointing to the list created in the `outer` function. Because it's local, the `inner`'s `somevar` variable is automatically unreferenced at the end of function's execution.\n",
    "\n",
    "So because we deleted `outer` function, it looks like nothing reference anymore to the list. And that's not true. Python mechanism create a reference to the object in an attribute of the function, in order to be able to use it in the function and to not garbage collect it. This is known as a function closure."
   ]
  },
  {
   "cell_type": "code",
   "execution_count": 9,
   "metadata": {
    "collapsed": false
   },
   "outputs": [
    {
     "name": "stdout",
     "output_type": "stream",
     "text": [
      "Function closure content  : "
     ]
    },
    {
     "ename": "NameError",
     "evalue": "name 'function' is not defined",
     "output_type": "error",
     "traceback": [
      "\u001b[1;31m---------------------------------------------------------------------------\u001b[0m",
      "\u001b[1;31mNameError\u001b[0m                                 Traceback (most recent call last)",
      "\u001b[1;32m<ipython-input-9-03fb8ad932d7>\u001b[0m in \u001b[0;36m<module>\u001b[1;34m()\u001b[0m\n\u001b[1;32m----> 1\u001b[1;33m \u001b[1;32mprint\u001b[0m \u001b[1;34m\"Function closure content  : \"\u001b[0m\u001b[1;33m,\u001b[0m \u001b[0mfunction\u001b[0m\u001b[1;33m.\u001b[0m\u001b[0mfunc_closure\u001b[0m\u001b[1;33m\u001b[0m\u001b[0m\n\u001b[0m\u001b[0;32m      2\u001b[0m \u001b[1;32mprint\u001b[0m \u001b[1;34m\"Closure cell contents     : \"\u001b[0m\u001b[1;33m,\u001b[0m \u001b[0mfunction\u001b[0m\u001b[1;33m.\u001b[0m\u001b[0mfunc_closure\u001b[0m\u001b[1;33m[\u001b[0m\u001b[1;36m0\u001b[0m\u001b[1;33m]\u001b[0m\u001b[1;33m.\u001b[0m\u001b[0mcell_contents\u001b[0m\u001b[1;33m\u001b[0m\u001b[0m\n\u001b[0;32m      3\u001b[0m \u001b[1;32mprint\u001b[0m \u001b[1;34m\"Id of the closure object  : \"\u001b[0m\u001b[1;33m,\u001b[0m \u001b[0mid\u001b[0m\u001b[1;33m(\u001b[0m\u001b[0mfunction\u001b[0m\u001b[1;33m.\u001b[0m\u001b[0mfunc_closure\u001b[0m\u001b[1;33m[\u001b[0m\u001b[1;36m0\u001b[0m\u001b[1;33m]\u001b[0m\u001b[1;33m.\u001b[0m\u001b[0mcell_contents\u001b[0m\u001b[1;33m)\u001b[0m\u001b[1;33m\u001b[0m\u001b[0m\n\u001b[0;32m      4\u001b[0m \u001b[1;32mprint\u001b[0m \u001b[1;34m\"Id of the returned object : \"\u001b[0m\u001b[1;33m,\u001b[0m \u001b[0mid\u001b[0m\u001b[1;33m(\u001b[0m\u001b[0mfunction\u001b[0m\u001b[1;33m(\u001b[0m\u001b[1;33m)\u001b[0m\u001b[1;33m)\u001b[0m\u001b[1;33m\u001b[0m\u001b[0m\n\u001b[0;32m      5\u001b[0m \u001b[1;32mprint\u001b[0m \u001b[1;34m\"Returned == closure ?     : \"\u001b[0m\u001b[1;33m,\u001b[0m \u001b[0mid\u001b[0m\u001b[1;33m(\u001b[0m\u001b[0mfunction\u001b[0m\u001b[1;33m(\u001b[0m\u001b[1;33m)\u001b[0m\u001b[1;33m)\u001b[0m \u001b[1;33m==\u001b[0m \u001b[0mid\u001b[0m\u001b[1;33m(\u001b[0m\u001b[0mfunction\u001b[0m\u001b[1;33m.\u001b[0m\u001b[0mfunc_closure\u001b[0m\u001b[1;33m[\u001b[0m\u001b[1;36m0\u001b[0m\u001b[1;33m]\u001b[0m\u001b[1;33m.\u001b[0m\u001b[0mcell_contents\u001b[0m\u001b[1;33m)\u001b[0m\u001b[1;33m\u001b[0m\u001b[0m\n",
      "\u001b[1;31mNameError\u001b[0m: name 'function' is not defined"
     ]
    }
   ],
   "source": [
    "print \"Function closure content  : \", function.func_closure\n",
    "print \"Closure cell contents     : \", function.func_closure[0].cell_contents\n",
    "print \"Id of the closure object  : \", id(function.func_closure[0].cell_contents)\n",
    "print \"Id of the returned object : \", id(function())\n",
    "print \"Returned == closure ?     : \", id(function()) == id(function.func_closure[0].cell_contents)"
   ]
  },
  {
   "cell_type": "markdown",
   "metadata": {},
   "source": [
    "### How Python manage the closures ?\n",
    "\n",
    "When Python compile a function, at every direct variable reference, the compiler will solve the reference in the following order :\n",
    "\n",
    "- If the action is an assignation, the reference will be generated at runtime in the locals\n",
    "- If the action is not an assignation, if an assignation with the same name has been done before, the reference will be resolved at runtime in the locals\n",
    "- If the action is not an assignation, check if the reference has been made in locals of the outer scope until reaching the global scope, then add a closure associated to this reference\n",
    "- If the previous case failed, find the reference at runtime in the globals (and raise a `NameError` if not found).\n",
    "\n",
    "Once a closure is detected, a cell will be created in the `func_closure` attribute of the function, containing the reference to the element, and the name of the element will be bind in the code object as a `co_freevars` of the `inner` function, and a `co_cellvars` of the `outer` function.\n",
    "\n",
    "I will write another article on this, because it's a bit hard to understand, and we need deep analysis on the Python comportement which is not the current subject."
   ]
  },
  {
   "cell_type": "markdown",
   "metadata": {},
   "source": [
    "### Closures side effects\n",
    "\n",
    "Closure also give a not well known issue. If your variable associated to the closure is mutated for some reasons outside of the function, the function will not have the same behavior. Let's see an example :"
   ]
  },
  {
   "cell_type": "code",
   "execution_count": 10,
   "metadata": {
    "collapsed": false
   },
   "outputs": [
    {
     "name": "stdout",
     "output_type": "stream",
     "text": [
      " 4 4 4\n"
     ]
    }
   ],
   "source": [
    "def closure_issue(value):\n",
    "    funcs = []\n",
    "    \n",
    "    for i in xrange(3):\n",
    "        def my_func(x):\n",
    "            return x * i\n",
    "        funcs.append(my_func)\n",
    "        \n",
    "    for func in funcs:\n",
    "        print func(value),\n",
    "        \n",
    "    return funcs\n",
    "\n",
    "funcs = closure_issue(2)"
   ]
  },
  {
   "cell_type": "markdown",
   "metadata": {},
   "source": [
    "Here, we expected a result like \"0 2 4\" and we have a \"4 4 4\". However, 3 different functions have been created :"
   ]
  },
  {
   "cell_type": "code",
   "execution_count": 11,
   "metadata": {
    "collapsed": true
   },
   "outputs": [],
   "source": [
    "assert id(funcs[0]) != id(funcs[1]) != id(funcs[2])"
   ]
  },
  {
   "cell_type": "markdown",
   "metadata": {},
   "source": [
    "The point is the function closure. For every instance of `my_func`, `i` is a closure variable. This means that if `i` mutate outside of the function, `my_func`'s `i` will also mutate. Even if `funcs` is a list of 3 different functions, all the closures target to the same instance :"
   ]
  },
  {
   "cell_type": "code",
   "execution_count": 12,
   "metadata": {
    "collapsed": true
   },
   "outputs": [],
   "source": [
    "closures_contents = [func.func_closure[0].cell_contents for func in funcs]\n",
    "assert id(closures_contents[0]) == id(closures_contents[1]) == id(closures_contents[2])"
   ]
  },
  {
   "cell_type": "markdown",
   "metadata": {},
   "source": [
    "A way to deal with this kind of issue is to bind the closure as a default parameter."
   ]
  },
  {
   "cell_type": "code",
   "execution_count": 13,
   "metadata": {
    "collapsed": false
   },
   "outputs": [
    {
     "name": "stdout",
     "output_type": "stream",
     "text": [
      "Value of i: 0  - Id of i: 9369584\n",
      "Value of i: 1  - Id of i: 9369560\n",
      "Value of i: 2  - Id of i: 9369536\n",
      "0 2 4\n"
     ]
    }
   ],
   "source": [
    "def closure_solved(value):\n",
    "    funcs = []\n",
    "    \n",
    "    for i in xrange(3):\n",
    "        def my_func(x, i=i):\n",
    "            print \"Value of i:\", i, \" - Id of i:\", id(i)\n",
    "            return x * i\n",
    "        funcs.append(my_func)\n",
    "    \n",
    "    print \" \".join(str(func(value)) for func in funcs)\n",
    "    \n",
    "    return funcs\n",
    "\n",
    "funcs = closure_solved(2)"
   ]
  }
 ],
 "metadata": {
  "kernelspec": {
   "display_name": "Python 2",
   "language": "python",
   "name": "python2"
  },
  "language_info": {
   "codemirror_mode": {
    "name": "ipython",
    "version": 2
   },
   "file_extension": ".py",
   "mimetype": "text/x-python",
   "name": "python",
   "nbconvert_exporter": "python",
   "pygments_lexer": "ipython2",
   "version": "2.7.3"
  }
 },
 "nbformat": 4,
 "nbformat_minor": 0
}
